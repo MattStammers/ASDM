{
 "cells": [
  {
   "cell_type": "code",
   "execution_count": 1,
   "metadata": {},
   "outputs": [
    {
     "name": "stdout",
     "output_type": "stream",
     "text": [
      "Engine: adding element: stock1 equation: 10\n",
      "Engine: adding element: flow1 equation: stock1/10\n",
      "Engine: adding element: var2 equation: init(stock1)\n"
     ]
    },
    {
     "data": {
      "text/html": [
       "<div>\n",
       "<style scoped>\n",
       "    .dataframe tbody tr th:only-of-type {\n",
       "        vertical-align: middle;\n",
       "    }\n",
       "\n",
       "    .dataframe tbody tr th {\n",
       "        vertical-align: top;\n",
       "    }\n",
       "\n",
       "    .dataframe thead th {\n",
       "        text-align: right;\n",
       "    }\n",
       "</style>\n",
       "<table border=\"1\" class=\"dataframe\">\n",
       "  <thead>\n",
       "    <tr style=\"text-align: right;\">\n",
       "      <th></th>\n",
       "      <th>stock1</th>\n",
       "      <th>flow1</th>\n",
       "      <th>var2</th>\n",
       "    </tr>\n",
       "  </thead>\n",
       "  <tbody>\n",
       "    <tr>\n",
       "      <th>0</th>\n",
       "      <td>10.0000</td>\n",
       "      <td>1.00000</td>\n",
       "      <td>10</td>\n",
       "    </tr>\n",
       "    <tr>\n",
       "      <th>1</th>\n",
       "      <td>11.0000</td>\n",
       "      <td>1.10000</td>\n",
       "      <td>10</td>\n",
       "    </tr>\n",
       "    <tr>\n",
       "      <th>2</th>\n",
       "      <td>12.1000</td>\n",
       "      <td>1.21000</td>\n",
       "      <td>10</td>\n",
       "    </tr>\n",
       "    <tr>\n",
       "      <th>3</th>\n",
       "      <td>13.3100</td>\n",
       "      <td>1.33100</td>\n",
       "      <td>10</td>\n",
       "    </tr>\n",
       "    <tr>\n",
       "      <th>4</th>\n",
       "      <td>14.6410</td>\n",
       "      <td>1.46410</td>\n",
       "      <td>10</td>\n",
       "    </tr>\n",
       "    <tr>\n",
       "      <th>5</th>\n",
       "      <td>16.1051</td>\n",
       "      <td>1.61051</td>\n",
       "      <td>10</td>\n",
       "    </tr>\n",
       "  </tbody>\n",
       "</table>\n",
       "</div>"
      ],
      "text/plain": [
       "    stock1    flow1  var2\n",
       "0  10.0000  1.00000    10\n",
       "1  11.0000  1.10000    10\n",
       "2  12.1000  1.21000    10\n",
       "3  13.3100  1.33100    10\n",
       "4  14.6410  1.46410    10\n",
       "5  16.1051  1.61051    10"
      ]
     },
     "execution_count": 1,
     "metadata": {},
     "output_type": "execute_result"
    }
   ],
   "source": [
    "from ASDM.Engine import Structure\n",
    "from ASDM.Utilities import plot_time_series\n",
    "\n",
    "class InitModel(Structure):\n",
    "    def __init__(self):\n",
    "        super(InitModel, self).__init__()\n",
    "        self.add_stock('stock1', 10)\n",
    "        self.add_flow('flow1', 'stock1/10', flow_to='stock1')\n",
    "        self.add_aux('var2', equation='init(stock1)')\n",
    "        # self.add_aux('var3', 'rbinom(var1, 0.4)')\n",
    "        # self.add_aux('var4', 'delay1(var1, 3, 0)')\n",
    "    \n",
    "init_model = InitModel()\n",
    "init_model.clear_last_run()\n",
    "init_model.simulate(simulation_time=5, dt=1)\n",
    "df_init = init_model.export_simulation_result()\n",
    "df_init"
   ]
  },
  {
   "cell_type": "markdown",
   "metadata": {},
   "source": []
  }
 ],
 "metadata": {
  "kernelspec": {
   "display_name": "Python 3.7.13 ('asdm')",
   "language": "python",
   "name": "python3"
  },
  "language_info": {
   "codemirror_mode": {
    "name": "ipython",
    "version": 3
   },
   "file_extension": ".py",
   "mimetype": "text/x-python",
   "name": "python",
   "nbconvert_exporter": "python",
   "pygments_lexer": "ipython3",
   "version": "3.7.13"
  },
  "orig_nbformat": 4,
  "vscode": {
   "interpreter": {
    "hash": "aad9be8fba4e8f7609799295cda0bb6ca11ddd7b874b4a36657e2066c4629fc9"
   }
  }
 },
 "nbformat": 4,
 "nbformat_minor": 2
}
